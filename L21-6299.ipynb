{
  "nbformat": 4,
  "nbformat_minor": 0,
  "metadata": {
    "colab": {
      "provenance": []
    },
    "kernelspec": {
      "name": "python3",
      "display_name": "Python 3"
    },
    "language_info": {
      "name": "python"
    }
  },
  "cells": [
    {
      "cell_type": "code",
      "execution_count": null,
      "metadata": {
        "id": "LB3k-f06nD7B"
      },
      "outputs": [],
      "source": [
        "def check__input(arr):\n",
        "    return \"false\"\n",
        "\n",
        "def check_input(arr):\n",
        "    found = True\n",
        "    n = len(arr)\n",
        "    for i in range(n):\n",
        "        for j in range((n-1)):\n",
        "            if arr[i][j] == arr[i][j+1]:\n",
        "                found = False\n",
        "                break\n",
        "    for i in range(n-1):\n",
        "        for j in range(n):\n",
        "            if arr[i+1][j] == arr[i][j]:\n",
        "                found = False\n",
        "                break\n",
        "    return found"
      ]
    }
  ]
}