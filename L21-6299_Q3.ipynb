{
  "nbformat": 4,
  "nbformat_minor": 0,
  "metadata": {
    "colab": {
      "provenance": [],
      "collapsed_sections": []
    },
    "kernelspec": {
      "name": "python3",
      "display_name": "Python 3"
    },
    "language_info": {
      "name": "python"
    }
  },
  "cells": [
    {
      "cell_type": "code",
      "execution_count": null,
      "metadata": {
        "id": "qDA03-0EuoEe"
      },
      "outputs": [],
      "source": [
        "import pandas as pd\n",
        "import numpy as np\n",
        "data= pd.read_csv(\"StudentMarkSheet.csv\")\n",
        "\n",
        "Bio=data[data['Exam name']=='Philosophy']['Marks'].mean()\n",
        "print(\"Average of Philosophy:\", Philosophy)\n",
        "\n",
        "Math=data[data['Exam name']=='Mathematics']['Marks'].mean()\n",
        "print(\"Average of Mathematics:\", Math)\n",
        "\n",
        "Chem=data[data['Exam name']=='Chemistry']['Marks'].mean()\n",
        "print(\"Average of Chemistry:\", Chem)\n",
        "\n",
        "Sociology=data[data['Exam name']=='Sociology']['Marks'].mean()\n",
        "print(\"Average of Sociology:\", Sociology)\n",
        "\n",
        "Physics=data[data['Exam name']=='Physics']['Marks'].mean()\n",
        "print(\"Average of Physics:\", Physics)\n",
        "\n",
        "Philosophy=data[data['Exam name']=='Biology']['Marks'].mean()\n",
        "print(\"Average of Biology:\", Bio)\n",
        "\n",
        "\n",
        "\n"
      ]
    }
  ]
}